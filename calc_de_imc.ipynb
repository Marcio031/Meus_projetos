{
  "nbformat": 4,
  "nbformat_minor": 0,
  "metadata": {
    "colab": {
      "provenance": [],
      "authorship_tag": "ABX9TyNm/MCFrdEzx/kB/3w+Lktt",
      "include_colab_link": true
    },
    "kernelspec": {
      "name": "python3",
      "display_name": "Python 3"
    },
    "language_info": {
      "name": "python"
    }
  },
  "cells": [
    {
      "cell_type": "markdown",
      "metadata": {
        "id": "view-in-github",
        "colab_type": "text"
      },
      "source": [
        "<a href=\"https://colab.research.google.com/github/Marcio031/Meus_projetos/blob/main/calc_de_imc.ipynb\" target=\"_parent\"><img src=\"https://colab.research.google.com/assets/colab-badge.svg\" alt=\"Open In Colab\"/></a>"
      ]
    },
    {
      "cell_type": "code",
      "execution_count": null,
      "metadata": {
        "id": "8MVuGsiY4STO"
      },
      "outputs": [],
      "source": [
        "##Calculadora de IMC\n",
        "print(\"Calculadora de IMC\")\n",
        "P=float(input(\"Digite seu peso: \"))\n",
        "H=float(input(\"Digite sua Altura: \"))\n",
        "IMC=P/(H**2)\n",
        "IMCa=round(IMC,2)\n",
        "print(\"Seu IMC é: \",IMCa)\n",
        "##condicional do peso\n",
        "if IMCa < 18.5:\n",
        "  print(\"Você está abaixo do peso\")\n",
        "elif IMCa >=18.and IMCa <=24.9:\n",
        "  print(\"Você esta com o seu peso ideal\")\n",
        "elif IMCa >=25.0 and IMCa <=29.9:\n",
        "  print(\"Você está acima do peso\")\n",
        "elif IMCa >= 30.0:\n",
        "  print(\"Você está com obesidade\")\n"
      ]
    }
  ]
}