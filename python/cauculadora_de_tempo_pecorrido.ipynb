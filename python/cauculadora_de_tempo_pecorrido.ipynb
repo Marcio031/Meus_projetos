{
  "nbformat": 4,
  "nbformat_minor": 0,
  "metadata": {
    "colab": {
      "provenance": [],
      "authorship_tag": "ABX9TyPDXBHfBIkNcCewokttMJpd",
      "include_colab_link": true
    },
    "kernelspec": {
      "name": "python3",
      "display_name": "Python 3"
    },
    "language_info": {
      "name": "python"
    }
  },
  "cells": [
    {
      "cell_type": "markdown",
      "metadata": {
        "id": "view-in-github",
        "colab_type": "text"
      },
      "source": [
        "<a href=\"https://colab.research.google.com/github/Marcio031/Meus_projetos/blob/main/python/cauculadora_de_tempo_pecorrido.ipynb\" target=\"_parent\"><img src=\"https://colab.research.google.com/assets/colab-badge.svg\" alt=\"Open In Colab\"/></a>"
      ]
    },
    {
      "cell_type": "code",
      "execution_count": null,
      "metadata": {
        "id": "DWwUHX5m2wpI"
      },
      "outputs": [],
      "source": [
        "##cauculadora de tempo pecorrido\n",
        "d=float(input(\"Distancia pecorrida em Km:\" ))\n",
        "vlm=float(input(\"Velocidade media em Km/h:\"))\n",
        "t=d/vlm\n",
        "##############################################\n",
        "horas=int(t)\n",
        "minutos=int((t-horas)*60)\n",
        "##############################################\n",
        "print(f\"Tempo da viagem: {horas}h {minutos}min\")"
      ]
    }
  ]
}