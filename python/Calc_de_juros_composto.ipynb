{
  "nbformat": 4,
  "nbformat_minor": 0,
  "metadata": {
    "colab": {
      "provenance": [],
      "authorship_tag": "ABX9TyNybzI2TyAeQgipAbK7QuKo",
      "include_colab_link": true
    },
    "kernelspec": {
      "name": "python3",
      "display_name": "Python 3"
    },
    "language_info": {
      "name": "python"
    }
  },
  "cells": [
    {
      "cell_type": "markdown",
      "metadata": {
        "id": "view-in-github",
        "colab_type": "text"
      },
      "source": [
        "<a href=\"https://colab.research.google.com/github/Marcio031/Meus_projetos/blob/main/python/Calc_de_juros_composto.ipynb\" target=\"_parent\"><img src=\"https://colab.research.google.com/assets/colab-badge.svg\" alt=\"Open In Colab\"/></a>"
      ]
    },
    {
      "cell_type": "code",
      "execution_count": null,
      "metadata": {
        "id": "mu6Bmf9oLQR1"
      },
      "outputs": [],
      "source": [
        "##Calculadora de juros compostos\n",
        "C=float(input(\"Capital inicial:R$ \"))\n",
        "Tx=float(input(\"Taxa de juros anual (%): \"))\n",
        "Tp=float(input(\"Tempo investido em anos: \"))\n",
        "I=Tx/100\n",
        "M=C*(1+I)**Tp\n",
        "print(f\"Montante final: R${M:,.2f}\")\n"
      ]
    }
  ]
}