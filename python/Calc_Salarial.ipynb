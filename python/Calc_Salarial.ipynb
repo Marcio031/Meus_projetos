{
  "nbformat": 4,
  "nbformat_minor": 0,
  "metadata": {
    "colab": {
      "provenance": [],
      "authorship_tag": "ABX9TyOkbO4cjLmZ7isUQeYF3Pur",
      "include_colab_link": true
    },
    "kernelspec": {
      "name": "python3",
      "display_name": "Python 3"
    },
    "language_info": {
      "name": "python"
    }
  },
  "cells": [
    {
      "cell_type": "markdown",
      "metadata": {
        "id": "view-in-github",
        "colab_type": "text"
      },
      "source": [
        "<a href=\"https://colab.research.google.com/github/Marcio031/Meus_projetos/blob/main/python/Calc_Salarial.ipynb\" target=\"_parent\"><img src=\"https://colab.research.google.com/assets/colab-badge.svg\" alt=\"Open In Colab\"/></a>"
      ]
    },
    {
      "cell_type": "code",
      "execution_count": 2,
      "metadata": {
        "colab": {
          "base_uri": "https://localhost:8080/"
        },
        "id": "U3WqX5_cWc-X",
        "outputId": "310528e5-822d-43ce-9b06-4e620af6c79e"
      },
      "outputs": [
        {
          "output_type": "stream",
          "name": "stdout",
          "text": [
            "Salario Inicial:R$ 1650\n",
            "Porcentagem do aumento:%5\n",
            "seu novo salario é:R$1732.50\n"
          ]
        }
      ],
      "source": [
        "## aumento salarial\n",
        "s=float(input(\"Salario Inicial:R$ \"))\n",
        "aus=int(input(\"Porcentagem do aumento:%\"))\n",
        "pas=(s*aus)/100\n",
        "aumento=s+pas\n",
        "#############################################\n",
        "print(f\"seu novo salario é:R${aumento:.2f}\")"
      ]
    }
  ]
}