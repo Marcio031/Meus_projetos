{
  "nbformat": 4,
  "nbformat_minor": 0,
  "metadata": {
    "colab": {
      "provenance": [],
      "authorship_tag": "ABX9TyPzi4ghF64tYxuFbIfki8X3",
      "include_colab_link": true
    },
    "kernelspec": {
      "name": "python3",
      "display_name": "Python 3"
    },
    "language_info": {
      "name": "python"
    }
  },
  "cells": [
    {
      "cell_type": "markdown",
      "metadata": {
        "id": "view-in-github",
        "colab_type": "text"
      },
      "source": [
        "<a href=\"https://colab.research.google.com/github/Marcio031/Meus_projetos/blob/main/python/Calc_de_desconto.ipynb\" target=\"_parent\"><img src=\"https://colab.research.google.com/assets/colab-badge.svg\" alt=\"Open In Colab\"/></a>"
      ]
    },
    {
      "cell_type": "code",
      "execution_count": null,
      "metadata": {
        "id": "vHhs2VpYyQei"
      },
      "outputs": [],
      "source": [
        "##Calculadora de desconto\n",
        "pm=float(input(\"valor do produto: R$ \"))\n",
        "pd=int(input(\"percentual de desconto: % \"))\n",
        "pdc=pd/100\n",
        "desconto=pm*pdc\n",
        "vlf=pm-desconto\n",
        "###############################################\n",
        "print(f\"O valor a ser pago e: R$ {vlf:.2f}\")"
      ]
    }
  ]
}