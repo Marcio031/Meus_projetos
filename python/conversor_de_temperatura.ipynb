{
  "nbformat": 4,
  "nbformat_minor": 0,
  "metadata": {
    "colab": {
      "provenance": [],
      "authorship_tag": "ABX9TyOUrjhMjl7U2Q+ek3XJQwjV",
      "include_colab_link": true
    },
    "kernelspec": {
      "name": "python3",
      "display_name": "Python 3"
    },
    "language_info": {
      "name": "python"
    }
  },
  "cells": [
    {
      "cell_type": "markdown",
      "metadata": {
        "id": "view-in-github",
        "colab_type": "text"
      },
      "source": [
        "<a href=\"https://colab.research.google.com/github/Marcio031/Meus_projetos/blob/main/python/conversor_de_temperatura.ipynb\" target=\"_parent\"><img src=\"https://colab.research.google.com/assets/colab-badge.svg\" alt=\"Open In Colab\"/></a>"
      ]
    },
    {
      "cell_type": "code",
      "execution_count": null,
      "metadata": {
        "id": "OAkxl7LNkxe8"
      },
      "outputs": [],
      "source": [
        "##Conversor de temperatura\n",
        "c=float(input(\"Temperatura em °C \"))\n",
        "f=((9*c)/5)+32\n",
        "print(\"Sua temperatura em fahrenheit é\",f,\"°F\")"
      ]
    }
  ]
}